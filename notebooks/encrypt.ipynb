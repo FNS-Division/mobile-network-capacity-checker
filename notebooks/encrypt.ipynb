{
 "cells": [
  {
   "cell_type": "code",
   "execution_count": null,
   "metadata": {},
   "outputs": [],
   "source": [
    "from cryptography.fernet import Fernet"
   ]
  },
  {
   "cell_type": "code",
   "execution_count": null,
   "metadata": {},
   "outputs": [],
   "source": [
    "import pandas as pd"
   ]
  },
  {
   "cell_type": "code",
   "execution_count": null,
   "metadata": {},
   "outputs": [],
   "source": [
    "key = Fernet.generate_key()"
   ]
  },
  {
   "cell_type": "code",
   "execution_count": null,
   "metadata": {},
   "outputs": [],
   "source": [
    "key"
   ]
  },
  {
   "cell_type": "code",
   "execution_count": null,
   "metadata": {},
   "outputs": [],
   "source": [
    "with open(\"../secret.key\", \"wb\") as key_file:\n",
    "    key_file.write(key)"
   ]
  },
  {
   "cell_type": "code",
   "execution_count": null,
   "metadata": {},
   "outputs": [],
   "source": [
    "cipher_suite = Fernet(key)"
   ]
  },
  {
   "cell_type": "code",
   "execution_count": null,
   "metadata": {},
   "outputs": [],
   "source": [
    "# Freq"
   ]
  },
  {
   "cell_type": "code",
   "execution_count": null,
   "metadata": {},
   "outputs": [],
   "source": [
    "with open(\"/home/azureuser/cloudfiles/code/Users/sebastien.peytrignet/mobile-network-capacity-model/data/input_data/frequency/bwdistance_km.csv\", \"rb\") as file:\n",
    "    bwdistance_km = file.read()"
   ]
  },
  {
   "cell_type": "code",
   "execution_count": null,
   "metadata": {},
   "outputs": [],
   "source": [
    "encrypted_bwdistance_km = cipher_suite.encrypt(bwdistance_km)"
   ]
  },
  {
   "cell_type": "code",
   "execution_count": null,
   "metadata": {},
   "outputs": [],
   "source": [
    "# Save the encrypted dataset to a new file\n",
    "with open(\"../bwdistance_km.enc\", \"wb\") as encrypted_file:\n",
    "    encrypted_file.write(encrypted_bwdistance_km)"
   ]
  },
  {
   "cell_type": "code",
   "execution_count": null,
   "metadata": {},
   "outputs": [],
   "source": [
    "with open(\"/home/azureuser/cloudfiles/code/Users/sebastien.peytrignet/mobile-network-capacity-model/data/input_data/frequency/bwdlachievbr_kbps.csv\", \"rb\") as file:\n",
    "    bwdlachievbr_kbps = file.read()"
   ]
  },
  {
   "cell_type": "code",
   "execution_count": null,
   "metadata": {},
   "outputs": [],
   "source": [
    "encrypted_bwdlachievbr_kbps = cipher_suite.encrypt(bwdlachievbr_kbps)"
   ]
  },
  {
   "cell_type": "code",
   "execution_count": null,
   "metadata": {},
   "outputs": [],
   "source": [
    "# Save the encrypted dataset to a new file\n",
    "with open(\"../bwdlachievbr_kbps.enc\", \"wb\") as encrypted_file:\n",
    "    encrypted_file.write(encrypted_bwdlachievbr_kbps)"
   ]
  },
  {
   "cell_type": "code",
   "execution_count": null,
   "metadata": {},
   "outputs": [],
   "source": [
    "# Carrier"
   ]
  },
  {
   "cell_type": "code",
   "execution_count": null,
   "metadata": {},
   "outputs": [],
   "source": [
    "with open(\"/home/azureuser/cloudfiles/code/Users/sebastien.peytrignet/mobile-network-capacity-model/data/input_data/carrier_bandwidth/bwdistance_km.csv\", \"rb\") as file:\n",
    "    bwdistance_km = file.read()"
   ]
  },
  {
   "cell_type": "code",
   "execution_count": null,
   "metadata": {},
   "outputs": [],
   "source": [
    "encrypted_bwdistance_km = cipher_suite.encrypt(bwdistance_km)"
   ]
  },
  {
   "cell_type": "code",
   "execution_count": null,
   "metadata": {},
   "outputs": [],
   "source": [
    "# Save the encrypted dataset to a new file\n",
    "with open(\"../bwdistance_km.enc\", \"wb\") as encrypted_file:\n",
    "    encrypted_file.write(encrypted_bwdistance_km)"
   ]
  },
  {
   "cell_type": "code",
   "execution_count": null,
   "metadata": {},
   "outputs": [],
   "source": [
    "with open(\"/home/azureuser/cloudfiles/code/Users/sebastien.peytrignet/mobile-network-capacity-model/data/input_data/carrier_bandwidth/bwdlachievbr_kbps.csv\", \"rb\") as file:\n",
    "    bwdlachievbr_kbps = file.read()"
   ]
  },
  {
   "cell_type": "code",
   "execution_count": null,
   "metadata": {},
   "outputs": [],
   "source": [
    "encrypted_bwdlachievbr_kbps = cipher_suite.encrypt(bwdlachievbr_kbps)"
   ]
  },
  {
   "cell_type": "code",
   "execution_count": null,
   "metadata": {},
   "outputs": [],
   "source": [
    "# Save the encrypted dataset to a new file\n",
    "with open(\"../bwdlachievbr_kbps.enc\", \"wb\") as encrypted_file:\n",
    "    encrypted_file.write(encrypted_bwdlachievbr_kbps)"
   ]
  },
  {
   "cell_type": "code",
   "execution_count": null,
   "metadata": {},
   "outputs": [],
   "source": [
    "### READING THEM IN"
   ]
  }
 ],
 "metadata": {
  "kernelspec": {
   "display_name": "mobilecapacityenv",
   "language": "python",
   "name": "python3"
  },
  "language_info": {
   "codemirror_mode": {
    "name": "ipython",
    "version": 3
   },
   "file_extension": ".py",
   "mimetype": "text/x-python",
   "name": "python",
   "nbconvert_exporter": "python",
   "pygments_lexer": "ipython3",
   "version": "3.9.19"
  }
 },
 "nbformat": 4,
 "nbformat_minor": 2
}
