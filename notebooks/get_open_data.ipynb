{
 "cells": [
  {
   "cell_type": "markdown",
   "metadata": {},
   "source": [
    "# Obtain open data"
   ]
  },
  {
   "cell_type": "code",
   "execution_count": null,
   "metadata": {},
   "outputs": [],
   "source": [
    "# Load packages\n",
    "from dotenv import load_dotenv\n",
    "import osmnx as ox\n",
    "import uuid\n",
    "import pandas as pd\n",
    "import os\n",
    "import requests\n",
    "import pycountry"
   ]
  },
  {
   "cell_type": "code",
   "execution_count": null,
   "metadata": {},
   "outputs": [],
   "source": [
    "# Load environment variables from .env file\n",
    "load_dotenv()"
   ]
  },
  {
   "cell_type": "code",
   "execution_count": null,
   "metadata": {},
   "outputs": [],
   "source": [
    "# Function to generate a unique identifier for point of interest or cell site\n",
    "def generate_uuids(n):\n",
    "    return [str(uuid.uuid4()) for _ in range(n)]"
   ]
  },
  {
   "cell_type": "code",
   "execution_count": null,
   "metadata": {},
   "outputs": [],
   "source": [
    "# Map a country name to its ISO-3 code\n",
    "def country_name_to_iso3(country_name):\n",
    "    try:\n",
    "        country = pycountry.countries.lookup(country_name)\n",
    "        return country.alpha_3\n",
    "    except LookupError:\n",
    "        return None"
   ]
  },
  {
   "cell_type": "markdown",
   "metadata": {},
   "source": [
    "## Country"
   ]
  },
  {
   "cell_type": "code",
   "execution_count": null,
   "metadata": {},
   "outputs": [],
   "source": [
    "# Enter the country name\n",
    "country_name = 'Switzerland'"
   ]
  },
  {
   "cell_type": "code",
   "execution_count": null,
   "metadata": {},
   "outputs": [],
   "source": [
    "# Fetch the country code\n",
    "country_code = country_name_to_iso3(country_name)"
   ]
  },
  {
   "cell_type": "code",
   "execution_count": null,
   "metadata": {},
   "outputs": [],
   "source": [
    "print(f\"The ISO-3 country code for {country_name} is {country_code}\")"
   ]
  },
  {
   "cell_type": "markdown",
   "metadata": {},
   "source": [
    "## Points of interest"
   ]
  },
  {
   "cell_type": "code",
   "execution_count": null,
   "metadata": {},
   "outputs": [],
   "source": [
    "# Get all points of interest, such as schools in Geneva\n",
    "# Specify the locations\n",
    "place = \"Carouge, Geneva, Switzerland\"\n",
    "# Specify the tag, to find out more about which tags to use, search https://wiki.openstreetmap.org/\n",
    "tags = {\"amenity\": \"school\"}\n",
    "# Get the data from OpenStreetMaps\n",
    "schools = ox.features_from_place(place, tags)\n",
    "# Restrict the data to the first three points of interest\n",
    "schools = schools.head(3)"
   ]
  },
  {
   "cell_type": "code",
   "execution_count": null,
   "metadata": {},
   "outputs": [],
   "source": [
    "# Convert the schools to a DataFrame\n",
    "schools_df = pd.DataFrame({\n",
    "    \"poi_id\": generate_uuids(len(schools)),\n",
    "    \"lat\": schools.geometry.centroid.y,\n",
    "    \"lon\": schools.geometry.centroid.x,\n",
    "}).reset_index(drop=True)"
   ]
  },
  {
   "cell_type": "code",
   "execution_count": null,
   "metadata": {},
   "outputs": [],
   "source": [
    "# Inspect the data\n",
    "schools_df.head()"
   ]
  },
  {
   "cell_type": "markdown",
   "metadata": {},
   "source": [
    "## Cell sites"
   ]
  },
  {
   "cell_type": "code",
   "execution_count": null,
   "metadata": {},
   "outputs": [],
   "source": [
    "# Get the bounding box of the points of interest (with a 100m buffer around it)\n",
    "poi_bounding_box = schools.to_crs(epsg=3857).buffer(100).to_crs(epsg=4326).total_bounds"
   ]
  },
  {
   "cell_type": "code",
   "execution_count": null,
   "metadata": {},
   "outputs": [],
   "source": [
    "# Fetch your OpenCellId API key, or provide as a string\n",
    "opencellid_key = os.getenv(\"OPENCELLIDKEY\")  # opencellid_key = \"your_key_here\""
   ]
  },
  {
   "cell_type": "code",
   "execution_count": null,
   "metadata": {},
   "outputs": [],
   "source": [
    "# Set up the API URL\n",
    "api_url = f\"http://www.opencellid.org/cell/getInArea?key={opencellid_key}&BBOX={poi_bounding_box[1]},{poi_bounding_box[0]},{poi_bounding_box[3]},{poi_bounding_box[2]}&format=json\""
   ]
  },
  {
   "cell_type": "code",
   "execution_count": null,
   "metadata": {},
   "outputs": [],
   "source": [
    "# Make the API request\n",
    "response = requests.get(api_url)\n",
    "\n",
    "# Check if the request was successful\n",
    "if response.status_code == 200:\n",
    "    # Parse the JSON response\n",
    "    data = response.json()\n",
    "    # Convert the JSON response to a DataFrame\n",
    "    cell_sites_df = pd.DataFrame(data['cells'])\n",
    "else:\n",
    "    print(f\"Failed to retrieve data: {response.status_code}\")"
   ]
  },
  {
   "cell_type": "code",
   "execution_count": null,
   "metadata": {},
   "outputs": [],
   "source": [
    "# Only keep 4G cell sites\n",
    "cell_sites_df = cell_sites_df.loc[cell_sites_df[\"radio\"]==\"LTE\",[\"lat\",\"lon\",\"radio\"]].rename(columns={\"radio\":\"radio_type\"})\n",
    "# Add unique identifier\n",
    "cell_sites_df[\"ict_id\"] = generate_uuids(len(cell_sites_df))"
   ]
  },
  {
   "cell_type": "code",
   "execution_count": null,
   "metadata": {},
   "outputs": [],
   "source": [
    "# Inspect the data\n",
    "cell_sites_df.head()"
   ]
  },
  {
   "cell_type": "markdown",
   "metadata": {},
   "source": [
    "## Save data"
   ]
  },
  {
   "cell_type": "code",
   "execution_count": null,
   "metadata": {},
   "outputs": [],
   "source": [
    "# Get the current directory\n",
    "current_dir = os.getcwd()\n",
    "root_dir = os.path.dirname(os.path.dirname(current_dir))\n",
    "data_dir = os.path.join(root_dir, 'data')"
   ]
  },
  {
   "cell_type": "code",
   "execution_count": null,
   "metadata": {},
   "outputs": [],
   "source": [
    "# Save the data we obtained to a csv file in the data/input_data/<country-code> directory\n",
    "subfolder_path = os.path.join(os.getcwd(), '..', '..', 'data', 'input_data', country_code)\n",
    "os.makedirs(subfolder_path, exist_ok=True)\n",
    "schools_df.to_csv(os.path.join(subfolder_path, \"carouge-schools.csv\"), index=False)\n",
    "cell_sites_df.to_csv(os.path.join(subfolder_path, \"carouge-cell-sites.csv\"), index=False)"
   ]
  }
 ],
 "metadata": {
  "kernelspec": {
   "display_name": "mobilecapacityenv",
   "language": "python",
   "name": "python3"
  },
  "language_info": {
   "codemirror_mode": {
    "name": "ipython",
    "version": 3
   },
   "file_extension": ".py",
   "mimetype": "text/x-python",
   "name": "python",
   "nbconvert_exporter": "python",
   "pygments_lexer": "ipython3",
   "version": "3.9.19"
  }
 },
 "nbformat": 4,
 "nbformat_minor": 2
}
