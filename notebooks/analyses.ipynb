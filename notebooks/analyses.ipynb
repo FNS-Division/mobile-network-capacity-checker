{
 "cells": [
  {
   "cell_type": "markdown",
   "metadata": {},
   "source": [
    "## Import packages"
   ]
  },
  {
   "cell_type": "code",
   "execution_count": null,
   "metadata": {},
   "outputs": [],
   "source": [
    "import os\n",
    "import pandas as pd \n",
    "import numpy as np\n",
    "import geopandas as gpd  \n",
    "import rasterio  \n",
    "import matplotlib.pyplot as plt\n",
    "from rasterio.plot import show as rio_show "
   ]
  },
  {
   "cell_type": "code",
   "execution_count": null,
   "metadata": {},
   "outputs": [],
   "source": [
    "import sys\n",
    "module_path = os.path.abspath('../')\n",
    "sys.path.append(module_path)\n",
    "from mobile_capacity.capacity import Capacity\n",
    "from mobile_capacity.datastorage import DataStorage\n",
    "from mobile_capacity.entities.pointofinterest import PointOfInterestCollection\n",
    "from mobile_capacity.entities.cellsite import CellSiteCollection\n",
    "from mobile_capacity.entities.visibilitypair import VisibilityPairCollection"
   ]
  },
  {
   "cell_type": "code",
   "execution_count": null,
   "metadata": {},
   "outputs": [],
   "source": [
    "pd.set_option('display.max_columns', None)"
   ]
  },
  {
   "cell_type": "markdown",
   "metadata": {},
   "source": [
    "## Load input data"
   ]
  },
  {
   "cell_type": "code",
   "execution_count": null,
   "metadata": {},
   "outputs": [],
   "source": [
    "# Get the current directory\n",
    "current_dir = os.getcwd()\n",
    "parent_dir = os.path.dirname(current_dir)\n",
    "data_dir = os.path.join(parent_dir, 'data')\n",
    "logs_dir = os.path.join(parent_dir, 'logs')\n",
    "print(f\"Check that this is root directory:{parent_dir}\")"
   ]
  },
  {
   "cell_type": "code",
   "execution_count": null,
   "metadata": {},
   "outputs": [],
   "source": [
    "# Plug in names of datasets in the input folder \n",
    "dataset_ids = dict(\n",
    "    pointofinterest = 'points-of-interest.csv',\n",
    "    cellsite = 'cell-sites.csv',\n",
    "    visibilitypairs = 'visibility.csv',\n",
    ")"
   ]
  },
  {
   "cell_type": "code",
   "execution_count": null,
   "metadata": {},
   "outputs": [],
   "source": [
    "# Load data into the data collections\n",
    "data_storage = DataStorage(data_dir=data_dir)\n",
    "\n",
    "data_collections = dict(\n",
    "    pointofinterest = PointOfInterestCollection(),\n",
    "    cellsite = CellSiteCollection(),\n",
    "    visibilitypairs = VisibilityPairCollection()\n",
    ")\n",
    "\n",
    "for data_category in dataset_ids.keys():\n",
    "    filepath = f\"input_data/{dataset_ids[data_category]}\"\n",
    "    entity_records = data_storage.load_data(filepath)\n",
    "    data_collections[data_category].load_from_records(entity_records)"
   ]
  },
  {
   "cell_type": "code",
   "execution_count": null,
   "metadata": {},
   "outputs": [],
   "source": [
    "# Inspect the data collections\n",
    "data_collections"
   ]
  },
  {
   "cell_type": "code",
   "execution_count": null,
   "metadata": {},
   "outputs": [],
   "source": [
    "# Read in the optional area file\n",
    "area_file = os.path.join(data_dir,'input_data','area.gpkg')\n",
    "myarea = gpd.read_file(area_file, driver='GPKG')"
   ]
  },
  {
   "cell_type": "markdown",
   "metadata": {},
   "source": [
    "## Set analysis parameters"
   ]
  },
  {
   "cell_type": "code",
   "execution_count": null,
   "metadata": {},
   "outputs": [],
   "source": [
    "params = {\n",
    "        ### Network Configuration ###\n",
    "        'bw': 20, # Bandwidth, MHz\n",
    "        'rb_num_multiplier': 5, \n",
    "        'cco': 18, # Control channel overheads in %\n",
    "        'fb_per_site': 3, # Number of frequency bands on site\n",
    "        'angles_num': 360, # Set the number of angles to be used for azimuth analysis  \n",
    "        'rotation_angle': 60, # Define the rotation angle to create a sector +/-rotation_angle degrees clockwise and counter-clockwise  \n",
    "\n",
    "        ### POI configuration ###\n",
    "        'dlthtarg': 20, # Download throughput target in Mbps.\n",
    "\n",
    "        ### Population information ###\n",
    "        'mbb_subscr': 113, # Active mobile-broadband subscriptions per 100 people, source: https://datahub.itu.int/data/?e=701&c=&i=11632&u=per+100+people\n",
    "        'oppopshare': 50, # % of Population on Operator\n",
    "        'dataset_year': 2020, # Year of the population dataset\n",
    "        'one_km_res': True, # Use 1km resolution population data\n",
    "        'un_adjusted': True, # Use adjusted population data\n",
    "\n",
    "        ### Mobile coverage radius ###\n",
    "        'min_radius': 1000, # meters, minimum radius around cell site location for population calculation\n",
    "        'max_radius': 2000,  # meters, maximum radius should be divisible by 1000; maximum radius around cell site location for population calculation\n",
    "        'radius_step': 1000, # meters, radius step size for population calculation\n",
    "\n",
    "        ### Avg user traffic profile ###\n",
    "        'nbhours': 10, # number of non-busy hours per day\n",
    "        'nonbhu': 50, # Connection usage in non-busy hour in % \n",
    "    }"
   ]
  },
  {
   "cell_type": "markdown",
   "metadata": {},
   "source": [
    "## Create an instance of the Capacity class"
   ]
  },
  {
   "cell_type": "code",
   "execution_count": null,
   "metadata": {},
   "outputs": [],
   "source": [
    "# Create an instance of the Capacity class\n",
    "mobilecapacity = Capacity(country_code=\"ESP\",\n",
    "                          poi=data_collections['pointofinterest'],\n",
    "                          cellsites=data_collections['cellsite'],\n",
    "                          visibility=data_collections['visibilitypairs'],\n",
    "                          area=myarea, # Area boundary is optional\n",
    "                          data_dir=data_dir,\n",
    "                          logs_dir=logs_dir,\n",
    "                          enable_logging=False,\n",
    "                          **params)"
   ]
  },
  {
   "cell_type": "code",
   "execution_count": null,
   "metadata": {},
   "outputs": [],
   "source": [
    "print(f\"The mobile broadband internet traffic per subscription per month in {mobilecapacity.country_code} is: {round(mobilecapacity.udatavmonth_pu,0)} GB per month according to {mobilecapacity.udatavmonth_year} data.\")"
   ]
  },
  {
   "cell_type": "markdown",
   "metadata": {},
   "source": [
    "## Available channel capacity"
   ]
  },
  {
   "cell_type": "markdown",
   "metadata": {},
   "source": [
    "## Run capacity check for one POI"
   ]
  },
  {
   "cell_type": "code",
   "execution_count": null,
   "metadata": {},
   "outputs": [],
   "source": [
    "# Test: check capacity for some random input values\n",
    "sufficient_capacity_check = mobilecapacity.capacity_checker(d = 2000, popcd=1000, udatavmonth=mobilecapacity.udatavmonth_pu, pop=5000)\n",
    "print(f'Capacity is sufficient to connect the POI: {sufficient_capacity_check[\"capcheck\"][0]}.')"
   ]
  },
  {
   "cell_type": "markdown",
   "metadata": {},
   "source": [
    "## Run capacity check for multiple POIs"
   ]
  },
  {
   "cell_type": "code",
   "execution_count": null,
   "metadata": {},
   "outputs": [],
   "source": [
    "mobilecapacity.capacity_checker(d = [2000,1000,5000], popcd=[800,600,900], udatavmonth=mobilecapacity.udatavmonth_pu, pop=5000)"
   ]
  },
  {
   "cell_type": "code",
   "execution_count": null,
   "metadata": {},
   "outputs": [],
   "source": [
    "mobilecapacity.capacity_checker(d = [2000], popcd=[800,600,900], udatavmonth=mobilecapacity.udatavmonth_pu, pop=5000)"
   ]
  },
  {
   "cell_type": "code",
   "execution_count": null,
   "metadata": {},
   "outputs": [],
   "source": [
    "mobilecapacity.capacity_checker(d = [2000,1000,5000], popcd=[900], udatavmonth=mobilecapacity.udatavmonth_pu, pop=5000)"
   ]
  },
  {
   "cell_type": "markdown",
   "metadata": {},
   "source": [
    "## Run buffer analysis for all POIs"
   ]
  },
  {
   "cell_type": "code",
   "execution_count": null,
   "metadata": {},
   "outputs": [],
   "source": [
    "# Run buffer analysis\n",
    "buffer_areas, poi_sufcapch_result = mobilecapacity.calculate_buffer_areas()"
   ]
  },
  {
   "cell_type": "code",
   "execution_count": null,
   "metadata": {},
   "outputs": [],
   "source": [
    "# Buffer areas output data sample\n",
    "buffer_areas.head(2)"
   ]
  },
  {
   "cell_type": "code",
   "execution_count": null,
   "metadata": {},
   "outputs": [],
   "source": [
    "# POI capacity sufficiency output data sample\n",
    "poi_sufcapch_result.head(2)"
   ]
  },
  {
   "cell_type": "code",
   "execution_count": null,
   "metadata": {},
   "outputs": [],
   "source": [
    "# Number of True and False POI capacity sufficiency checks\n",
    "poi_sufcapch_result.sufcapch.value_counts()"
   ]
  },
  {
   "cell_type": "markdown",
   "metadata": {},
   "source": [
    "## Charts"
   ]
  },
  {
   "cell_type": "code",
   "execution_count": null,
   "metadata": {},
   "outputs": [],
   "source": [
    "# Coordinate reference system:\n",
    "crs = \"4326\"\n",
    "\n",
    "# Chart data\n",
    "\n",
    "# Area boundary\n",
    "area = mobilecapacity.area\n",
    "minx, miny, maxx, maxy = mobilecapacity.area.total_bounds\n",
    "# Cell sites\n",
    "cell_sites = mobilecapacity.cellsites\n",
    "cell_sites = gpd.GeoDataFrame(cell_sites, geometry=gpd.points_from_xy(cell_sites.lon, cell_sites.lat), crs=crs)\n",
    "# POIs\n",
    "pois = mobilecapacity.poi\n",
    "pois = gpd.GeoDataFrame(pois, geometry=gpd.points_from_xy(pois[\"lon\"], pois[\"lat\"]), crs=crs)\n",
    "    # Merge in capacity check results\n",
    "pois = pois.merge(poi_sufcapch_result[['sufcapch']], how='left', left_on='poi_id', right_index=True)\n",
    "# Population density raster\n",
    "raster = rasterio.open(mobilecapacity.population_data_handler.dataset_path)\n",
    "# Mobile coverage \n",
    "mc = gpd.read_file(os.path.join(mobilecapacity.data_dir,'input_data','mobile-coverage.gpkg'), crs=crs)"
   ]
  },
  {
   "cell_type": "code",
   "execution_count": null,
   "metadata": {},
   "outputs": [],
   "source": [
    "import matplotlib.pyplot as plt\n",
    "\n",
    "# Sample plotting code\n",
    "fig, ax = plt.subplots(figsize=(10, 10))  \n",
    "\n",
    "# Plot the area with a gray color\n",
    "mobilecapacity.area.plot(ax=ax, color='gray', alpha=0.5)\n",
    "\n",
    "# Plot cell sites with yellow color, 'o' marker, and some opacity\n",
    "cell_sites.plot(ax=ax, color='yellow', markersize=30, marker='o', label='Cell site locations', alpha=0.7)\n",
    "\n",
    "# Plot POIs with light green color, '^' marker, and some opacity\n",
    "pois.plot(ax=ax, color='darkblue', markersize=15, marker='^', label=\"POI locations\", alpha=0.7)  \n",
    "\n",
    "# Set plot titles and labels\n",
    "ax.set_title('Cell site and POI locations (synthetic data for illustration purposes)')\n",
    "ax.set_xlabel('Longitude')  \n",
    "ax.set_ylabel('Latitude')\n",
    "\n",
    "# Add a legend\n",
    "ax.legend()\n",
    "\n",
    "# Show the plot\n",
    "plt.show()"
   ]
  },
  {
   "cell_type": "code",
   "execution_count": null,
   "metadata": {},
   "outputs": [],
   "source": [
    "# Now you can use these boundaries to clip your map\n",
    "fig, ax = plt.subplots(figsize=(10, 10))  \n",
    "\n",
    "# Display the raster data on the map\n",
    "rio_show(raster, ax=ax)  \n",
    "\n",
    "# Set the title and axis labels\n",
    "ax.set_title('Population density')  \n",
    "ax.set_xlabel('Longitude')  \n",
    "ax.set_ylabel('Latitude')  \n",
    "\n",
    "# Set the limits for the x and y axes using the bounds from the GeoDataFrame\n",
    "ax.set_xlim([minx, maxx])\n",
    "ax.set_ylim([miny, maxy])\n",
    "\n",
    "plt.show()"
   ]
  },
  {
   "cell_type": "code",
   "execution_count": null,
   "metadata": {},
   "outputs": [],
   "source": [
    "fig, ax = plt.subplots(figsize=(10, 10))  \n",
    "\n",
    "rio_show(raster, ax=ax)  \n",
    "   \n",
    "for radius in range(mobilecapacity.min_radius, mobilecapacity.max_radius+1, mobilecapacity.radius_step):\n",
    "        buffer_areas[f'ring_{radius}'].plot(ax=ax, color='blue', edgecolor='k', alpha=0.5)\n",
    "    \n",
    "buffer_areas.plot(ax=ax, color='yellow', markersize=30, marker='o', label='Cell site locations', alpha=0.7)\n",
    "\n",
    "ax.set_title(f'Ring areas around cell sites for radiuses from {mobilecapacity.min_radius} m to {mobilecapacity.max_radius} m with {mobilecapacity.radius_step} m step.')  \n",
    "ax.set_xlabel('Longitude')  \n",
    "ax.set_ylabel('Latitude')\n",
    "ax.set_xlim([minx, maxx])\n",
    "ax.set_ylim([miny, maxy])\n",
    "ax.legend() \n",
    " \n",
    "plt.show()"
   ]
  },
  {
   "cell_type": "code",
   "execution_count": null,
   "metadata": {},
   "outputs": [],
   "source": [
    "fig, ax = plt.subplots(figsize=(10, 10))  \n",
    "  \n",
    "rio_show(raster, ax=ax)  \n",
    "  \n",
    "for radius in range(mobilecapacity.min_radius, mobilecapacity.max_radius+1, mobilecapacity.radius_step):\n",
    "        buffer_areas[f'clring_{radius}'].plot(ax=ax, color='blue', edgecolor='lightgrey', alpha=0.5)\n",
    "  \n",
    "buffer_areas.plot(ax=ax, color='yellow', markersize=30, marker='o', label = \"Cell site locations\", alpha=0.7) \n",
    "\n",
    "ax.set_title('Mobile cellular service coverage areas')  \n",
    "ax.set_xlabel('Longitude')  \n",
    "ax.set_ylabel('Latitude')\n",
    "ax.set_xlim([minx, maxx])\n",
    "ax.set_ylim([miny, maxy])\n",
    "ax.legend()\n",
    " \n",
    "plt.show()  \n"
   ]
  },
  {
   "cell_type": "code",
   "execution_count": null,
   "metadata": {},
   "outputs": [],
   "source": [
    "fig, ax = plt.subplots(figsize=(10, 10))  \n",
    "\n",
    "rio_show(raster, ax=ax)  \n",
    "  \n",
    "for radius in range(mobilecapacity.min_radius, mobilecapacity.max_radius+1, mobilecapacity.radius_step):\n",
    "        buffer_areas[f'clring_{radius}'].plot(ax=ax, color='blue', edgecolor='lightgrey', alpha=0.5)\n",
    "  \n",
    "cell_sites.plot(ax=ax, color='yellow', markersize=30, marker='o', label='Cell site locations', alpha=0.7)\n",
    "\n",
    "pois[pois['sufcapch'] == True].plot(ax=ax, color='lightgreen',  marker='^', markersize=15, alpha=0.7, label='POI: Sufficient Capacity')\n",
    "pois[pois['sufcapch'] == False].plot(ax=ax, color='red',  marker='^', markersize=15, alpha=0.7, label='POI: Insufficient Capacity')\n",
    "\n",
    "ax.set_title('Mobile cellular service capacity sufficiency check')\n",
    "ax.set_xlabel('Longitude')\n",
    "ax.set_ylabel('Latitude')\n",
    "ax.set_xlim([minx, maxx])\n",
    "ax.set_ylim([miny, maxy])\n",
    "ax.legend()\n",
    "\n",
    "plt.show()"
   ]
  },
  {
   "cell_type": "code",
   "execution_count": null,
   "metadata": {},
   "outputs": [],
   "source": [
    "fig, ax = plt.subplots(figsize=(10, 10))  \n",
    "\n",
    "area.plot(ax=ax, color = 'gray')\n",
    "mc.plot(ax=ax, color = 'blue')\n",
    "\n",
    "pois.plot(ax=ax, color = 'lightgreen', markersize=10, label=\"POI locations\")\n",
    "   \n",
    "ax.set_title(f'POI locations (synthetic data for illustration purposes)')  \n",
    "ax.set_xlabel('Longitude')  \n",
    "ax.set_ylabel('Latitude')\n",
    "ax.legend()  \n",
    "\n",
    "plt.show()"
   ]
  },
  {
   "cell_type": "markdown",
   "metadata": {},
   "source": [
    "## Mobile broadband traffic per mobile broadband subscription per month"
   ]
  },
  {
   "cell_type": "code",
   "execution_count": null,
   "metadata": {},
   "outputs": [],
   "source": [
    "# Compile mobile traffic data based on the latest year ITU data available for both\n",
    "# mobile-broadband Internet traffic (within the country) and active mobile-broadband subscriptions\n",
    "# and calculates Mobile broadband internet traffic (within the country) per active mobile broadband subscription per month.\n",
    "mobile_traffic_data = mobilecapacity.mbbtps()"
   ]
  },
  {
   "cell_type": "code",
   "execution_count": null,
   "metadata": {},
   "outputs": [],
   "source": [
    "# Display mobile traffic data sample\n",
    "mobile_traffic_data.head()"
   ]
  },
  {
   "cell_type": "code",
   "execution_count": null,
   "metadata": {},
   "outputs": [],
   "source": [
    "# Group the data by 'entityIso_mbbsubscr' and calculate the mean traffic per subscriber per month\n",
    "grouped_data = mobile_traffic_data.loc[mobile_traffic_data.loc[mobile_traffic_data.dataYear == 2022,:].index, ['entityIso_mbbsubscr','mbb_traffic_per_subscr_per_month']].set_index('entityIso_mbbsubscr')\n",
    "\n",
    "# Define country \n",
    "start_position = 30 # the first country to be displayed on the chart (numeration starts with 0)\n",
    "end_position = 50 # the last country to be displayed on the chart\n",
    "\n",
    "# Sort the grouped data by the mean traffic values\n",
    "sorted_data = grouped_data.sort_values(by = 'mbb_traffic_per_subscr_per_month', ascending=False)[start_position:end_position]\n",
    "\n",
    "fig, ax = plt.subplots(figsize=(10, 10))\n",
    "\n",
    "sorted_data.plot(kind='bar', ax=ax, color='skyblue', edgecolor='black')\n",
    "\n",
    "ax.set_title('Mean Traffic per Subscriber per Month by Country in 2022')\n",
    "ax.set_xlabel('Country ISO 3 code')\n",
    "ax.set_ylabel('Mean Traffic per Subscriber per Month (GB)')\n",
    "ax.grid(True)\n",
    "\n",
    "plt.show()"
   ]
  },
  {
   "cell_type": "code",
   "execution_count": null,
   "metadata": {},
   "outputs": [],
   "source": [
    "mobilecapacity.data_dir"
   ]
  },
  {
   "cell_type": "code",
   "execution_count": null,
   "metadata": {},
   "outputs": [],
   "source": [
    "file_path = os.path.join(mobilecapacity.data_dir, 'output_data', 'MobileBB_Traffic_per_Subscr_per_Month.csv')\n",
    "if not os.path.exists(file_path):\n",
    "    mobile_traffic_data.to_csv(file_path)"
   ]
  }
 ],
 "metadata": {
  "kernelspec": {
   "display_name": "coverage-model",
   "language": "python",
   "name": "python3"
  },
  "language_info": {
   "codemirror_mode": {
    "name": "ipython",
    "version": 3
   },
   "file_extension": ".py",
   "mimetype": "text/x-python",
   "name": "python",
   "nbconvert_exporter": "python",
   "pygments_lexer": "ipython3",
   "version": "3.9.19"
  }
 },
 "nbformat": 4,
 "nbformat_minor": 2
}
