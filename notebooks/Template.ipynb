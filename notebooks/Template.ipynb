{
 "cells": [
  {
   "cell_type": "markdown",
   "metadata": {},
   "source": [
    "## Import packages"
   ]
  },
  {
   "cell_type": "code",
   "execution_count": null,
   "metadata": {},
   "outputs": [],
   "source": [
    "# Load custom libraries\n",
    "import os\n",
    "import sys\n",
    "module_path = os.path.abspath('../')\n",
    "sys.path.append(module_path)\n",
    "from mobile_capacity.capacity import Capacity\n",
    "from mobile_capacity.datastorage import DataStorage\n",
    "from mobile_capacity.entities.pointofinterest import PointOfInterestCollection\n",
    "from mobile_capacity.entities.cellsite import CellSiteCollection\n",
    "from mobile_capacity.spatial import plot_layers"
   ]
  },
  {
   "cell_type": "markdown",
   "metadata": {},
   "source": [
    "## Load input data"
   ]
  },
  {
   "cell_type": "code",
   "execution_count": null,
   "metadata": {},
   "outputs": [],
   "source": [
    "# Get the current directory\n",
    "current_dir = os.getcwd()\n",
    "root_dir = os.path.dirname(current_dir)\n",
    "data_dir = os.path.join(root_dir, 'data')\n",
    "logs_dir = os.path.join(root_dir, 'logs')\n",
    "print(f\"Check that this is root directory:{root_dir}\")\n",
    "print(f\"Check that this is data directory:{data_dir}\")\n",
    "print(f\"Check that this is logs directory:{logs_dir}\")"
   ]
  },
  {
   "cell_type": "code",
   "execution_count": null,
   "metadata": {},
   "outputs": [],
   "source": [
    "# Provide country code (ISO-3)\n",
    "# ISO-3 country codes can be found here https://en.wikipedia.org/wiki/ISO_3166-1_alpha-3\n",
    "country_code = ''"
   ]
  },
  {
   "cell_type": "code",
   "execution_count": null,
   "metadata": {},
   "outputs": [],
   "source": [
    "# Plug in names of datasets found within the input folder data/input_data/<country_code>/\n",
    "dataset_ids = dict(\n",
    "    pointofinterest = 'points-of-interest.csv',\n",
    "    cellsite = 'cell-sites.csv')"
   ]
  },
  {
   "cell_type": "code",
   "execution_count": null,
   "metadata": {},
   "outputs": [],
   "source": [
    "# Load data into the data collections\n",
    "data_storage = DataStorage(data_dir=data_dir)\n",
    "\n",
    "data_collections = dict(\n",
    "    pointofinterest = PointOfInterestCollection(),\n",
    "    cellsite = CellSiteCollection(),\n",
    ")\n",
    "\n",
    "for data_category in dataset_ids.keys():\n",
    "    filepath = f\"input_data/{country_code}/{dataset_ids[data_category]}\"\n",
    "    entity_records = data_storage.load_data(filepath)\n",
    "    data_collections[data_category].load_from_records(entity_records)"
   ]
  },
  {
   "cell_type": "code",
   "execution_count": null,
   "metadata": {},
   "outputs": [],
   "source": [
    "# Inspect the data collections\n",
    "data_collections"
   ]
  },
  {
   "cell_type": "markdown",
   "metadata": {},
   "source": [
    "## Set analysis parameters"
   ]
  },
  {
   "cell_type": "code",
   "execution_count": null,
   "metadata": {},
   "outputs": [],
   "source": [
    "params = {\n",
    "        ### Network Configuration ###\n",
    "        'bw_L850': 5, # MHz on L700 to L900 spectrum bandwidth\n",
    "        'bw_L1800': 10, # MHz on L1800 spectrum bandwidth\n",
    "        'bw_L2600': 20, # MHz on L2600 spectrum bandwidth\n",
    "        'rb_num_multiplier': 5, # Resource block multiplier\n",
    "        'cco': 18, # Control channel overheads in %\n",
    "        'sectors_per_site': 3, # Number of frequency bands on site\n",
    "        'angles_num': 360, # Set the number of angles to be used for azimuth analysis  \n",
    "        'rotation_angle': 60, # Define the rotation angle to create a sector +/-rotation_angle degrees clockwise and counter-clockwise  \n",
    "\n",
    "        ### POI configuration ###\n",
    "        'dlthtarg': 20, # Download throughput target in Mbps.\n",
    "\n",
    "        ### Population information ###\n",
    "        'mbb_subscr': 113, # Active mobile-broadband subscriptions per 100 people, source: https://datahub.itu.int/data/?e=701&c=&i=11632&u=per+100+people\n",
    "        'oppopshare': 50, # % of Population on Operator\n",
    "        'dataset_year': 2020, # Year of the population dataset\n",
    "        'one_km_res': True, # Use 1km resolution population data\n",
    "        'un_adjusted': True, # Use adjusted population data\n",
    "\n",
    "        ### Mobile coverage radius ###\n",
    "        'min_radius': 1000, # meters, minimum radius around cell site location for population calculation\n",
    "        'max_radius': 2000,  # meters, maximum radius should be divisible by 1000; maximum radius around cell site location for population calculation\n",
    "        'radius_step': 500, # meters, radius step size for population calculation\n",
    "\n",
    "        ### Avg user traffic profile ###\n",
    "        'nbhours': 10, # number of non-busy hours per day\n",
    "        'nonbhu': 50, # Connection usage in non-busy hour in % \n",
    "    }"
   ]
  },
  {
   "cell_type": "markdown",
   "metadata": {},
   "source": [
    "## Create an instance of the Capacity class"
   ]
  },
  {
   "cell_type": "code",
   "execution_count": null,
   "metadata": {},
   "outputs": [],
   "source": [
    "# Create an instance of the Capacity class\n",
    "mobilecapacity = Capacity(country_code=country_code,\n",
    "                          poi=data_collections['pointofinterest'],\n",
    "                          cellsites=data_collections['cellsite'],\n",
    "                          data_dir=data_dir,\n",
    "                          logs_dir=logs_dir,\n",
    "                          enable_logging=True,\n",
    "                          use_secure_files=True,\n",
    "                          **params)"
   ]
  },
  {
   "cell_type": "code",
   "execution_count": null,
   "metadata": {},
   "outputs": [],
   "source": [
    "print(f\"The mobile broadband internet traffic per subscription per month in {mobilecapacity.country_code} is: {round(mobilecapacity.udatavmonth_pu,0)} GB per month according to {mobilecapacity.udatavmonth_year} data.\")"
   ]
  },
  {
   "cell_type": "markdown",
   "metadata": {},
   "source": [
    "## Run buffer analysis for all POIs"
   ]
  },
  {
   "cell_type": "code",
   "execution_count": null,
   "metadata": {},
   "outputs": [],
   "source": [
    "# Run buffer analysis\n",
    "buffer_areas, poi_sufcapch_result = mobilecapacity.calculate_buffer_areas()"
   ]
  },
  {
   "cell_type": "code",
   "execution_count": null,
   "metadata": {},
   "outputs": [],
   "source": [
    "# Buffer areas output data sample\n",
    "buffer_areas[\"rings\"].head(2)"
   ]
  },
  {
   "cell_type": "code",
   "execution_count": null,
   "metadata": {},
   "outputs": [],
   "source": [
    "# POI capacity sufficiency output data sample\n",
    "poi_sufcapch_result.head(2)"
   ]
  },
  {
   "cell_type": "code",
   "execution_count": null,
   "metadata": {},
   "outputs": [],
   "source": [
    "# Number of True and False POI capacity sufficiency checks\n",
    "poi_sufcapch_result.sufcapch.value_counts()"
   ]
  },
  {
   "cell_type": "markdown",
   "metadata": {},
   "source": [
    "## Charts"
   ]
  },
  {
   "cell_type": "code",
   "execution_count": null,
   "metadata": {},
   "outputs": [],
   "source": [
    "plot_layers(mobilecapacity, poi_sufcapch_result, buffer_areas, plot=\"buffers\")"
   ]
  },
  {
   "cell_type": "markdown",
   "metadata": {},
   "source": [
    "## Save results"
   ]
  },
  {
   "cell_type": "code",
   "execution_count": null,
   "metadata": {},
   "outputs": [],
   "source": [
    "file_path = os.path.join(data_dir, 'output_data', country_code, 'poi-capacity-sufficiency.csv')\n",
    "os.makedirs(os.path.dirname(file_path), exist_ok=True)\n",
    "poi_sufcapch_result.to_csv(file_path) "
   ]
  }
 ],
 "metadata": {
  "kernelspec": {
   "display_name": "mobilecapacityenv",
   "language": "python",
   "name": "python3"
  },
  "language_info": {
   "codemirror_mode": {
    "name": "ipython",
    "version": 3
   },
   "file_extension": ".py",
   "mimetype": "text/x-python",
   "name": "python",
   "nbconvert_exporter": "python",
   "pygments_lexer": "ipython3",
   "version": "3.9.19"
  }
 },
 "nbformat": 4,
 "nbformat_minor": 2
}
