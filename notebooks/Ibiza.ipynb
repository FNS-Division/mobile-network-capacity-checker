{
 "cells": [
  {
   "cell_type": "markdown",
   "metadata": {},
   "source": [
    "## Import packages"
   ]
  },
  {
   "cell_type": "code",
   "execution_count": null,
   "metadata": {},
   "outputs": [],
   "source": [
    "# Load libraries\n",
    "import os\n",
    "import pandas as pd \n",
    "from dotenv import load_dotenv\n",
    "import matplotlib.pyplot as plt"
   ]
  },
  {
   "cell_type": "code",
   "execution_count": null,
   "metadata": {},
   "outputs": [],
   "source": [
    "# Load custom libraries\n",
    "import sys\n",
    "module_path = os.path.abspath('../')\n",
    "sys.path.append(module_path)\n",
    "from mobile_capacity.capacity import Capacity\n",
    "from mobile_capacity.datastorage import DataStorage\n",
    "from mobile_capacity.entities.pointofinterest import PointOfInterestCollection\n",
    "from mobile_capacity.entities.cellsite import CellSiteCollection\n",
    "from mobile_capacity.entities.visibilitypair import VisibilityPairCollection\n",
    "from mobile_capacity.spatial import plot_layers, display_population_raster"
   ]
  },
  {
   "cell_type": "code",
   "execution_count": null,
   "metadata": {},
   "outputs": [],
   "source": [
    "# Pandas options\n",
    "pd.set_option('display.max_columns', None)"
   ]
  },
  {
   "cell_type": "code",
   "execution_count": null,
   "metadata": {},
   "outputs": [],
   "source": [
    "# Load environment variables from the .env file\n",
    "load_dotenv()"
   ]
  },
  {
   "cell_type": "markdown",
   "metadata": {},
   "source": [
    "## Load input data"
   ]
  },
  {
   "cell_type": "code",
   "execution_count": null,
   "metadata": {},
   "outputs": [],
   "source": [
    "# Get the current directory\n",
    "current_dir = os.getcwd()\n",
    "parent_dir = os.path.dirname(current_dir)\n",
    "data_dir = os.path.join(parent_dir, 'data')\n",
    "logs_dir = os.path.join(parent_dir, 'logs')\n",
    "print(f\"Check that this is root directory:{parent_dir}\")\n",
    "print(f\"Check that this is data directory:{data_dir}\")\n",
    "print(f\"Check that this is logs directory:{logs_dir}\")"
   ]
  },
  {
   "cell_type": "code",
   "execution_count": null,
   "metadata": {},
   "outputs": [],
   "source": [
    "# Provide country code (ISO-3)\n",
    "country_code = 'ESP'"
   ]
  },
  {
   "cell_type": "code",
   "execution_count": null,
   "metadata": {},
   "outputs": [],
   "source": [
    "# Plug in names of datasets in the input folder \n",
    "dataset_ids = dict(\n",
    "    pointofinterest = 'points-of-interest.csv',\n",
    "    cellsite = 'cell-sites.csv',\n",
    "    visibilitypair = 'visibility.csv')"
   ]
  },
  {
   "cell_type": "code",
   "execution_count": null,
   "metadata": {},
   "outputs": [],
   "source": [
    "# Load data into the data collections\n",
    "data_storage = DataStorage(data_dir=data_dir)\n",
    "\n",
    "data_collections = dict(\n",
    "    pointofinterest = PointOfInterestCollection(),\n",
    "    cellsite = CellSiteCollection(),\n",
    "    visibilitypair = VisibilityPairCollection()\n",
    ")\n",
    "\n",
    "for data_category in dataset_ids.keys():\n",
    "    filepath = f\"input_data/{country_code}/{dataset_ids[data_category]}\"\n",
    "    entity_records = data_storage.load_data(filepath)\n",
    "    data_collections[data_category].load_from_records(entity_records)"
   ]
  },
  {
   "cell_type": "code",
   "execution_count": null,
   "metadata": {},
   "outputs": [],
   "source": [
    "# Inspect the data collections\n",
    "data_collections"
   ]
  },
  {
   "cell_type": "markdown",
   "metadata": {},
   "source": [
    "## Set analysis parameters"
   ]
  },
  {
   "cell_type": "code",
   "execution_count": null,
   "metadata": {},
   "outputs": [],
   "source": [
    "params = {\n",
    "        ### Network Configuration ###\n",
    "        'bw_L850': 5, # MHz on L700 to L900 spectrum bandwidth\n",
    "        'bw_L1800': 10, # MHz on L1800 spectrum bandwidth\n",
    "        'bw_L2600': 20, # MHz on L2600 spectrum bandwidth\n",
    "        'rb_num_multiplier': 5, # Resource block multiplier\n",
    "        'cco': 18, # Control channel overheads in %\n",
    "        'sectors_per_site': 3, # Number of frequency bands on site\n",
    "        'angles_num': 360, # Set the number of angles to be used for azimuth analysis  \n",
    "        'rotation_angle': 60, # Define the rotation angle to create a sector +/-rotation_angle degrees clockwise and counter-clockwise  \n",
    "\n",
    "        ### POI configuration ###\n",
    "        'dlthtarg': 20, # Download throughput target in Mbps.\n",
    "\n",
    "        ### Population information ###\n",
    "        'mbb_subscr': 113, # Active mobile-broadband subscriptions per 100 people, source: https://datahub.itu.int/data/?e=701&c=&i=11632&u=per+100+people\n",
    "        'oppopshare': 50, # % of Population on Operator\n",
    "        'dataset_year': 2020, # Year of the population dataset\n",
    "        'one_km_res': True, # Use 1km resolution population data\n",
    "        'un_adjusted': True, # Use adjusted population data\n",
    "\n",
    "        ### Mobile coverage radius ###\n",
    "        'min_radius': 1000, # meters, minimum radius around cell site location for population calculation\n",
    "        'max_radius': 2000,  # meters, maximum radius should be divisible by 1000; maximum radius around cell site location for population calculation\n",
    "        'radius_step': 1000, # meters, radius step size for population calculation\n",
    "\n",
    "        ### Avg user traffic profile ###\n",
    "        'nbhours': 10, # number of non-busy hours per day\n",
    "        'nonbhu': 50, # Connection usage in non-busy hour in % \n",
    "    }"
   ]
  },
  {
   "cell_type": "markdown",
   "metadata": {},
   "source": [
    "## Create an instance of the Capacity class"
   ]
  },
  {
   "cell_type": "code",
   "execution_count": null,
   "metadata": {},
   "outputs": [],
   "source": [
    "# Create an instance of the Capacity class\n",
    "mobilecapacity = Capacity(country_code=country_code,\n",
    "                          poi=data_collections['pointofinterest'],\n",
    "                          cellsites=data_collections['cellsite'],\n",
    "                          data_dir=data_dir,\n",
    "                          logs_dir=logs_dir,\n",
    "                          enable_logging=True,\n",
    "                          **params)"
   ]
  },
  {
   "cell_type": "code",
   "execution_count": null,
   "metadata": {},
   "outputs": [],
   "source": [
    "print(f\"The mobile broadband internet traffic per subscription per month in {mobilecapacity.country_code} is: {round(mobilecapacity.udatavmonth_pu,0)} GB per month according to {mobilecapacity.udatavmonth_year} data.\")"
   ]
  },
  {
   "cell_type": "markdown",
   "metadata": {},
   "source": [
    "## Available channel capacity"
   ]
  },
  {
   "cell_type": "markdown",
   "metadata": {},
   "source": [
    "## Run capacity check for one POI"
   ]
  },
  {
   "cell_type": "code",
   "execution_count": null,
   "metadata": {},
   "outputs": [],
   "source": [
    "# Test: check capacity for some random input values\n",
    "sufficient_capacity_check = mobilecapacity.capacity_checker(d = 2000, popcd=1000, udatavmonth=mobilecapacity.udatavmonth_pu, pop=5000)\n",
    "print(f'Capacity is sufficient to connect the POI: {sufficient_capacity_check[\"capcheck\"][0]}.')"
   ]
  },
  {
   "cell_type": "markdown",
   "metadata": {},
   "source": [
    "## Run capacity check for multiple POIs"
   ]
  },
  {
   "cell_type": "code",
   "execution_count": null,
   "metadata": {},
   "outputs": [],
   "source": [
    "mobilecapacity.capacity_checker(d = [2000,1000,5000], popcd=[800,600,900], udatavmonth=mobilecapacity.udatavmonth_pu, pop=5000)"
   ]
  },
  {
   "cell_type": "code",
   "execution_count": null,
   "metadata": {},
   "outputs": [],
   "source": [
    "mobilecapacity.capacity_checker(d = [2000], popcd=[800,600,900], udatavmonth=mobilecapacity.udatavmonth_pu, pop=5000)"
   ]
  },
  {
   "cell_type": "code",
   "execution_count": null,
   "metadata": {},
   "outputs": [],
   "source": [
    "mobilecapacity.capacity_checker(d = [2000,1000,5000], popcd=[900], udatavmonth=mobilecapacity.udatavmonth_pu, pop=5000)"
   ]
  },
  {
   "cell_type": "markdown",
   "metadata": {},
   "source": [
    "## Run buffer analysis for all POIs"
   ]
  },
  {
   "cell_type": "code",
   "execution_count": null,
   "metadata": {},
   "outputs": [],
   "source": [
    "# Run buffer analysis\n",
    "buffer_areas, poi_sufcapch_result = mobilecapacity.calculate_buffer_areas()"
   ]
  },
  {
   "cell_type": "code",
   "execution_count": null,
   "metadata": {},
   "outputs": [],
   "source": [
    "# Buffer areas output data sample\n",
    "buffer_areas.head(2)"
   ]
  },
  {
   "cell_type": "code",
   "execution_count": null,
   "metadata": {},
   "outputs": [],
   "source": [
    "# POI capacity sufficiency output data sample\n",
    "poi_sufcapch_result.head(2)"
   ]
  },
  {
   "cell_type": "code",
   "execution_count": null,
   "metadata": {},
   "outputs": [],
   "source": [
    "# Number of True and False POI capacity sufficiency checks\n",
    "poi_sufcapch_result.sufcapch.value_counts()"
   ]
  },
  {
   "cell_type": "markdown",
   "metadata": {},
   "source": [
    "## Charts"
   ]
  },
  {
   "cell_type": "code",
   "execution_count": null,
   "metadata": {},
   "outputs": [],
   "source": [
    "plot_layers(mobilecapacity, poi_sufcapch_result, buffer_areas)"
   ]
  },
  {
   "cell_type": "code",
   "execution_count": null,
   "metadata": {},
   "outputs": [],
   "source": [
    "display_population_raster(mobilecapacity)"
   ]
  },
  {
   "cell_type": "markdown",
   "metadata": {},
   "source": [
    "## Mobile broadband traffic per mobile broadband subscription per month"
   ]
  },
  {
   "cell_type": "code",
   "execution_count": null,
   "metadata": {},
   "outputs": [],
   "source": [
    "# Compile mobile traffic data based on the latest year ITU data available for both\n",
    "# mobile-broadband Internet traffic (within the country) and active mobile-broadband subscriptions\n",
    "# and calculates Mobile broadband internet traffic (within the country) per active mobile broadband subscription per month.\n",
    "mobile_traffic_data = mobilecapacity.mbbtps()"
   ]
  },
  {
   "cell_type": "code",
   "execution_count": null,
   "metadata": {},
   "outputs": [],
   "source": [
    "# Display mobile traffic data sample\n",
    "mobile_traffic_data.head()"
   ]
  },
  {
   "cell_type": "code",
   "execution_count": null,
   "metadata": {},
   "outputs": [],
   "source": [
    "# Group the data by 'entityIso_mbbsubscr' and calculate the mean traffic per subscriber per month\n",
    "grouped_data = mobile_traffic_data.loc[mobile_traffic_data.loc[mobile_traffic_data.dataYear == 2022,:].index, ['entityIso_mbbsubscr','mbb_traffic_per_subscr_per_month']].set_index('entityIso_mbbsubscr')\n",
    "\n",
    "# Define country \n",
    "start_position = 30 # the first country to be displayed on the chart (numeration starts with 0)\n",
    "end_position = 50 # the last country to be displayed on the chart\n",
    "\n",
    "# Sort the grouped data by the mean traffic values\n",
    "sorted_data = grouped_data.sort_values(by = 'mbb_traffic_per_subscr_per_month', ascending=False)[start_position:end_position]\n",
    "\n",
    "fig, ax = plt.subplots(figsize=(10, 10))\n",
    "\n",
    "sorted_data.plot(kind='bar', ax=ax, color='skyblue', edgecolor='black')\n",
    "\n",
    "ax.set_title('Mean Traffic per Subscriber per Month by Country in 2022')\n",
    "ax.set_xlabel('Country ISO 3 code')\n",
    "ax.set_ylabel('Mean Traffic per Subscriber per Month (GB)')\n",
    "ax.grid(True)\n",
    "\n",
    "plt.show()"
   ]
  },
  {
   "cell_type": "code",
   "execution_count": null,
   "metadata": {},
   "outputs": [],
   "source": [
    "file_path = os.path.join(mobilecapacity.data_dir, 'output_data', 'MobileBB_Traffic_per_Subscr_per_Month.csv')\n",
    "if not os.path.exists(file_path):\n",
    "    mobile_traffic_data.to_csv(file_path)"
   ]
  }
 ],
 "metadata": {
  "kernelspec": {
   "display_name": "coverage-model",
   "language": "python",
   "name": "python3"
  },
  "language_info": {
   "codemirror_mode": {
    "name": "ipython",
    "version": 3
   },
   "file_extension": ".py",
   "mimetype": "text/x-python",
   "name": "python",
   "nbconvert_exporter": "python",
   "pygments_lexer": "ipython3",
   "version": "3.9.19"
  }
 },
 "nbformat": 4,
 "nbformat_minor": 2
}
